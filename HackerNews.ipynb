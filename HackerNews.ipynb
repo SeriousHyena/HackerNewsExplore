{
 "cells": [
  {
   "cell_type": "markdown",
   "metadata": {},
   "source": [
    "# Hacker News Posts-Analysis"
   ]
  },
  {
   "cell_type": "markdown",
   "metadata": {},
   "source": [
    "### In this Jupyter notebook we will be working with Strings, OOP and dates and times using Python objects.\n",
    "\n",
    "In so doing we will be analyzing the activity on the Hacker News platform and try to pull together some interesting data analysis."
   ]
  },
  {
   "cell_type": "markdown",
   "metadata": {},
   "source": [
    "# Read the file into a list object"
   ]
  },
  {
   "cell_type": "code",
   "execution_count": 7,
   "metadata": {},
   "outputs": [],
   "source": [
    "from csv import reader\n",
    "opened_file = open(r'C:\\Users\\emack\\Documents\\HackerNewsExplore\\HackerNews.csv', encoding=\"utf8\")\n",
    "read_file = reader(opened_file)\n",
    "hn = list(read_file)"
   ]
  },
  {
   "cell_type": "markdown",
   "metadata": {},
   "source": [
    "### Extract the header rows and assign to a variable then display the header row variable."
   ]
  },
  {
   "cell_type": "code",
   "execution_count": 11,
   "metadata": {},
   "outputs": [
    {
     "name": "stdout",
     "output_type": "stream",
     "text": [
      "id\n",
      "title\n",
      "url\n",
      "num_points\n",
      "num_comments\n",
      "author\n",
      "created_at\n"
     ]
    }
   ],
   "source": [
    "for header_row in hn[0]:\n",
    "    print(header_row)"
   ]
  },
  {
   "cell_type": "markdown",
   "metadata": {},
   "source": [
    "## Now print only the first five rows of actual data."
   ]
  },
  {
   "cell_type": "code",
   "execution_count": 12,
   "metadata": {},
   "outputs": [
    {
     "name": "stdout",
     "output_type": "stream",
     "text": [
      "['12579008', 'You have two days to comment if you want stem cells to be classified as your own', 'http://www.regulations.gov/document?D=FDA-2015-D-3719-0018', '1', '0', 'altstar', '9/26/2016 3:26']\n",
      "['12579005', 'SQLAR  the SQLite Archiver', 'https://www.sqlite.org/sqlar/doc/trunk/README.md', '1', '0', 'blacksqr', '9/26/2016 3:24']\n",
      "['12578997', 'What if we just printed a flatscreen television on the side of our boxes?', 'https://medium.com/vanmoof/our-secrets-out-f21c1f03fdc8#.ietxmez43', '1', '0', 'pavel_lishin', '9/26/2016 3:19']\n",
      "['12578989', 'algorithmic music', 'http://cacm.acm.org/magazines/2011/7/109891-algorithmic-composition/fulltext', '1', '0', 'poindontcare', '9/26/2016 3:16']\n",
      "['12578979', 'How the Data Vault Enables the Next-Gen Data Warehouse and Data Lake', 'https://www.talend.com/blog/2016/05/12/talend-and-Â\\x93the-data-vaultÂ\\x94', '1', '0', 'markgainor1', '9/26/2016 3:14']\n"
     ]
    }
   ],
   "source": [
    "for row in hn[1:6]: # use slicing to print only the first five rows\n",
    "    print(row)   "
   ]
  },
  {
   "cell_type": "markdown",
   "metadata": {},
   "source": [
    "## Now filter the data to identify only the data that has 'Ask HN' or 'Show HN' in it.\n",
    "\n",
    "### See: https://docs.python.org/3/library/stdtypes.html?highlight=startswith#str.startswith"
   ]
  },
  {
   "cell_type": "code",
   "execution_count": 13,
   "metadata": {},
   "outputs": [],
   "source": [
    "# let's create some empty lists for use in isolating the entries\n",
    "# we want\n",
    "ask_posts = []\n",
    "show_posts = []\n",
    "other_posts = []\n",
    "\n",
    "for row in hn: # iterate through the rows\n",
    "    title = row[1] # assign the title in each row to the variable title\n",
    "    if title.lower().startswith('ask hn'):\n",
    "        ask_posts.append(title)\n",
    "        \n",
    "    else:\n",
    "        if title.lower().startswith('show hn'):\n",
    "            show_posts.append(title)\n",
    "else:\n",
    "    other_posts.append(title)\n"
   ]
  },
  {
   "cell_type": "code",
   "execution_count": 14,
   "metadata": {},
   "outputs": [
    {
     "data": {
      "text/plain": [
       "['Show HN: Finding puns computationally',\n",
       " 'Show HN: A simple library for complicated animations',\n",
       " 'Show HN: WebGL visualization of DNA sequences',\n",
       " 'Show HN: Pomodoro-centric, heirarchical project management with ES6 modules',\n",
       " 'Show HN: Jumble  Essays on the go #PaulInYourPocket']"
      ]
     },
     "execution_count": 14,
     "metadata": {},
     "output_type": "execute_result"
    }
   ],
   "source": [
    "show_posts[0:5]"
   ]
  },
  {
   "cell_type": "code",
   "execution_count": 15,
   "metadata": {},
   "outputs": [
    {
     "data": {
      "text/plain": [
       "['Ask HN: What TLD do you use for local development?',\n",
       " 'Ask HN: How do you pass on your work when you die?',\n",
       " 'Ask HN: How a DNS problem can be limited to a geographic region?',\n",
       " 'Ask HN: Why join a fund when you can be an angel?',\n",
       " 'Ask HN: Someone uses stock trading as passive income?']"
      ]
     },
     "execution_count": 15,
     "metadata": {},
     "output_type": "execute_result"
    }
   ],
   "source": [
    "ask_posts[0:5]"
   ]
  },
  {
   "cell_type": "code",
   "execution_count": 16,
   "metadata": {},
   "outputs": [
    {
     "data": {
      "text/plain": [
       "['Toyota Establishes Research Centers with MIT and Stanford for AI Research']"
      ]
     },
     "execution_count": 16,
     "metadata": {},
     "output_type": "execute_result"
    }
   ],
   "source": [
    "other_posts[0:5]"
   ]
  },
  {
   "cell_type": "code",
   "execution_count": null,
   "metadata": {},
   "outputs": [],
   "source": []
  }
 ],
 "metadata": {
  "kernelspec": {
   "display_name": "Python 3",
   "language": "python",
   "name": "python3"
  },
  "language_info": {
   "codemirror_mode": {
    "name": "ipython",
    "version": 3
   },
   "file_extension": ".py",
   "mimetype": "text/x-python",
   "name": "python",
   "nbconvert_exporter": "python",
   "pygments_lexer": "ipython3",
   "version": "3.7.4"
  }
 },
 "nbformat": 4,
 "nbformat_minor": 4
}
